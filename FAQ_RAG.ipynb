{
 "cells": [
  {
   "cell_type": "markdown",
   "id": "2938b2c6-e4f7-4d19-96c9-8e0b1e600b35",
   "metadata": {},
   "source": [
    "### setup"
   ]
  },
  {
   "cell_type": "code",
   "execution_count": null,
   "id": "5f2ec1d0-07fb-4a6c-a63b-565d5ab9d2c7",
   "metadata": {
    "tags": []
   },
   "outputs": [],
   "source": [
    "import socket\n",
    "import re\n",
    "\n",
    "PROJECT_ID = !(gcloud config get-value core/project)\n",
    "PROJECT_ID = PROJECT_ID[0]\n",
    "\n",
    "SVC_ACC = !(gcloud config get-value core/account)\n",
    "SVC_ACC = SVC_ACC[0]\n",
    "\n",
    "PROJECT_NUMBER=str(re.search(r'\\d+', SVC_ACC).group())\n",
    "\n",
    "LOCATION=\"us-central1\"\n",
    "\n",
    "UNIQUE_PREFIX = socket.gethostname()\n",
    "UNIQUE_PREFIX = re.sub('[^A-Za-z0-9]+', '', UNIQUE_PREFIX)\n",
    "\n",
    "BUCKET_NAME = f\"{PROJECT_ID}-{UNIQUE_PREFIX}-{LOCATION}\"\n",
    "\n",
    "BUCKET_URI = f\"gs://{BUCKET_NAME}\"  # @param {type:\"string\"}\n",
    "\n",
    "! gcloud config set project $PROJECT_ID\n",
    "! gcloud storage buckets create {BUCKET_URI} --project={PROJECT_ID} --location={LOCATION}\n",
    "! mkdir output\n",
    "\n",
    "import vertexai\n",
    "\n",
    "vertexai.init(project=PROJECT_ID, location=LOCATION, staging_bucket=BUCKET_URI)"
   ]
  },
  {
   "cell_type": "code",
   "execution_count": null,
   "id": "af99de94-7e4f-4893-a954-0f8975cc3778",
   "metadata": {
    "tags": []
   },
   "outputs": [],
   "source": [
    "# from langchain_google_genai import ChatGoogleGenerativeAI\n",
    "from langchain_google_vertexai import VertexAI\n",
    "from langchain_google_vertexai import VertexAIEmbeddings\n",
    "\n",
    "\n",
    "# from langchain_community.embeddings import HuggingFaceEmbeddings\n",
    "from langchain_community.vectorstores import FAISS\n",
    "from langchain.prompts import PromptTemplate\n",
    "from langchain.chains import RetrievalQA\n",
    "import os \n",
    "from dotenv import load_dotenv\n",
    "load_dotenv()\n",
    "\n",
    "db_file_path='FAISS_Index'\n",
    "embeddings = VertexAIEmbeddings('textembedding-gecko@latest')\n",
    "\n",
    "def creation_of_vectorDB_in_local(loader):\n",
    "    data = loader.load()\n",
    "    db =FAISS.from_documents(data, embeddings)\n",
    "    db.save_local(db_file_path)\n",
    "\n",
    "def creation_FAQ_chain():\n",
    "    db=FAISS.load_local(db_file_path, embeddings)\n",
    "    retriever =db.as_retriever(score_threshold=0.7)\n",
    "    \n",
    "    # llm = ChatGoogleGenerativeAI(model=\"gemini-pro\",temperature=0.2)\n",
    "\n",
    "    # To use model\n",
    "    llm = VertexAI(model_name=\"gemini-pro\")\n",
    "\n",
    "    prompt_temp=\"\"\"Given the following context and a question, generate an answer based on this context only.\n",
    "    In the answer try to provide as much text as possible from \"response\" section in the source document context without making much changes.\n",
    "    If the answer is not found in the context, kindly state \"This Question not Present in My Database.\" Don't try to make up an answer.\n",
    "    CONTEXT: {context}\n",
    "    QUESTION: {question}\"\"\"\n",
    "\n",
    "    PROMPT = PromptTemplate(template=prompt_temp, input_variables=[\"context\", \"question\"])\n",
    "    chain = RetrievalQA.from_chain_type(llm=llm,chain_type=\"stuff\", \n",
    "                                        retriever=retriever, \n",
    "                                        input_key=\"query\", \n",
    "                                        return_source_documents=False,\n",
    "                                        chain_type_kwargs={\"prompt\" : PROMPT})\n",
    "    return chain\n"
   ]
  },
  {
   "cell_type": "code",
   "execution_count": 8,
   "id": "b4448e45-71e5-4ded-b2c8-b5f2f630d2ef",
   "metadata": {
    "tags": []
   },
   "outputs": [],
   "source": [
    "#@title ### You will need to update these values\n",
    "\n",
    "import vertexai\n",
    "vertexai.init(project=PROJECT_ID, location=LOCATION)\n"
   ]
  },
  {
   "cell_type": "code",
   "execution_count": 9,
   "id": "7b333127-a68e-4118-a66f-78d9ebb21344",
   "metadata": {
    "tags": []
   },
   "outputs": [],
   "source": [
    "import pandas as pd\n",
    "import seaborn as sns\n",
    "from IPython.display import Markdown, display\n",
    "from sklearn.metrics.pairwise import cosine_similarity\n",
    "from vertexai.preview.language_models import (ChatModel, InputOutputTextPair,\n",
    "                                              TextEmbeddingModel,\n",
    "                                              TextGenerationModel)\n",
    "from google.cloud import aiplatform_v1beta1, aiplatform\n",
    "from google.protobuf import struct_pb2\n",
    "import numpy as np\n",
    "\n",
    "from tenacity import retry, stop_after_attempt, wait_random_exponential\n"
   ]
  },
  {
   "cell_type": "code",
   "execution_count": 46,
   "id": "7dba6569-1a0d-4a39-baa1-b35dc4076a18",
   "metadata": {
    "tags": []
   },
   "outputs": [],
   "source": [
    "import pandas as pd\n",
    "\n",
    "# Replace 'your_file.csv' with the actual filename\n",
    "df = pd.read_csv('Singpost_QnA_doc.csv')\n",
    "\n",
    "# print(\"\\nColumn names and types:\")\n",
    "# print(df.info())\n",
    "\n",
    "data = df[\"question\"].tolist()\n",
    "\n"
   ]
  },
  {
   "cell_type": "code",
   "execution_count": 48,
   "id": "16fbf3f0-04f8-436a-af60-158122caaf84",
   "metadata": {
    "tags": []
   },
   "outputs": [
    {
     "data": {
      "text/html": [
       "<div>\n",
       "<style scoped>\n",
       "    .dataframe tbody tr th:only-of-type {\n",
       "        vertical-align: middle;\n",
       "    }\n",
       "\n",
       "    .dataframe tbody tr th {\n",
       "        vertical-align: top;\n",
       "    }\n",
       "\n",
       "    .dataframe thead th {\n",
       "        text-align: right;\n",
       "    }\n",
       "</style>\n",
       "<table border=\"1\" class=\"dataframe\">\n",
       "  <thead>\n",
       "    <tr style=\"text-align: right;\">\n",
       "      <th></th>\n",
       "      <th>Prompt</th>\n",
       "      <th>answer</th>\n",
       "      <th>embedding</th>\n",
       "    </tr>\n",
       "  </thead>\n",
       "  <tbody>\n",
       "    <tr>\n",
       "      <th>0</th>\n",
       "      <td>How do I exchange my existing commercial vehicle?</td>\n",
       "      <td>To exchange your commercial vehicle click on t...</td>\n",
       "      <td>[0.020373761653900146, -0.05186869204044342, -...</td>\n",
       "    </tr>\n",
       "    <tr>\n",
       "      <th>1</th>\n",
       "      <td>How do I get to know the final offer price aft...</td>\n",
       "      <td>The booking amount paid by you Is used to simp...</td>\n",
       "      <td>[0.0017610692884773016, -0.028775252401828766,...</td>\n",
       "    </tr>\n",
       "    <tr>\n",
       "      <th>2</th>\n",
       "      <td>How do I know my booking has been confirmed?</td>\n",
       "      <td>Once you have completed the payment, you will ...</td>\n",
       "      <td>[0.01797533594071865, -0.04220637306571007, -0...</td>\n",
       "    </tr>\n",
       "    <tr>\n",
       "      <th>3</th>\n",
       "      <td>Where can I watch a video to learn more about ...</td>\n",
       "      <td>The Help and Booking Guide buttons are present...</td>\n",
       "      <td>[0.009226418100297451, -0.021474039182066917, ...</td>\n",
       "    </tr>\n",
       "    <tr>\n",
       "      <th>4</th>\n",
       "      <td>How do I calculate the EMI for the commercial ...</td>\n",
       "      <td>Once you have opened a vehicle page, you can s...</td>\n",
       "      <td>[0.005750755779445171, -0.07312288880348206, -...</td>\n",
       "    </tr>\n",
       "    <tr>\n",
       "      <th>5</th>\n",
       "      <td>What is the maximum price of the car</td>\n",
       "      <td>one core</td>\n",
       "      <td>[-0.014892088249325752, -0.0554826520383358, -...</td>\n",
       "    </tr>\n",
       "    <tr>\n",
       "      <th>6</th>\n",
       "      <td>What is the minimum price of the car</td>\n",
       "      <td>ten lakh</td>\n",
       "      <td>[-0.001161880325525999, -0.06594191491603851, ...</td>\n",
       "    </tr>\n",
       "    <tr>\n",
       "      <th>7</th>\n",
       "      <td>who is the programmer of the web portal</td>\n",
       "      <td>Unknown coder</td>\n",
       "      <td>[0.02974068373441696, -0.016449231654405594, -...</td>\n",
       "    </tr>\n",
       "    <tr>\n",
       "      <th>8</th>\n",
       "      <td>which year the sell of cars were high</td>\n",
       "      <td>2019</td>\n",
       "      <td>[0.019806981086730957, -0.004369750618934631, ...</td>\n",
       "    </tr>\n",
       "    <tr>\n",
       "      <th>9</th>\n",
       "      <td>when the sales was down</td>\n",
       "      <td>2020</td>\n",
       "      <td>[0.04185187444090843, -0.013278556056320667, -...</td>\n",
       "    </tr>\n",
       "    <tr>\n",
       "      <th>10</th>\n",
       "      <td>what is the profit in 2020</td>\n",
       "      <td>30 thousand core</td>\n",
       "      <td>[0.028189891949295998, -0.028728080913424492, ...</td>\n",
       "    </tr>\n",
       "    <tr>\n",
       "      <th>11</th>\n",
       "      <td>how much of workers works in the company</td>\n",
       "      <td>around 20000 people</td>\n",
       "      <td>[0.02377016842365265, -0.027684519067406654, -...</td>\n",
       "    </tr>\n",
       "  </tbody>\n",
       "</table>\n",
       "</div>"
      ],
      "text/plain": [
       "                                               Prompt  \\\n",
       "0   How do I exchange my existing commercial vehicle?   \n",
       "1   How do I get to know the final offer price aft...   \n",
       "2        How do I know my booking has been confirmed?   \n",
       "3   Where can I watch a video to learn more about ...   \n",
       "4   How do I calculate the EMI for the commercial ...   \n",
       "5                What is the maximum price of the car   \n",
       "6                What is the minimum price of the car   \n",
       "7             who is the programmer of the web portal   \n",
       "8               which year the sell of cars were high   \n",
       "9                             when the sales was down   \n",
       "10                         what is the profit in 2020   \n",
       "11           how much of workers works in the company   \n",
       "\n",
       "                                               answer  \\\n",
       "0   To exchange your commercial vehicle click on t...   \n",
       "1   The booking amount paid by you Is used to simp...   \n",
       "2   Once you have completed the payment, you will ...   \n",
       "3   The Help and Booking Guide buttons are present...   \n",
       "4   Once you have opened a vehicle page, you can s...   \n",
       "5                                            one core   \n",
       "6                                            ten lakh   \n",
       "7                                       Unknown coder   \n",
       "8                                                2019   \n",
       "9                                                2020   \n",
       "10                                   30 thousand core   \n",
       "11                                around 20000 people   \n",
       "\n",
       "                                            embedding  \n",
       "0   [0.020373761653900146, -0.05186869204044342, -...  \n",
       "1   [0.0017610692884773016, -0.028775252401828766,...  \n",
       "2   [0.01797533594071865, -0.04220637306571007, -0...  \n",
       "3   [0.009226418100297451, -0.021474039182066917, ...  \n",
       "4   [0.005750755779445171, -0.07312288880348206, -...  \n",
       "5   [-0.014892088249325752, -0.0554826520383358, -...  \n",
       "6   [-0.001161880325525999, -0.06594191491603851, ...  \n",
       "7   [0.02974068373441696, -0.016449231654405594, -...  \n",
       "8   [0.019806981086730957, -0.004369750618934631, ...  \n",
       "9   [0.04185187444090843, -0.013278556056320667, -...  \n",
       "10  [0.028189891949295998, -0.028728080913424492, ...  \n",
       "11  [0.02377016842365265, -0.027684519067406654, -...  "
      ]
     },
     "execution_count": 48,
     "metadata": {},
     "output_type": "execute_result"
    }
   ],
   "source": [
    "prompt_list = df['question'].tolist()\n",
    "\n",
    "df[\"embedding\"] = [    emb.values for emb in embedding_model.get_embeddings(prompt_list) ]\n",
    "df"
   ]
  },
  {
   "cell_type": "code",
   "execution_count": 50,
   "id": "8aa7b6b6-b70a-488d-b25d-7e819a5d6807",
   "metadata": {
    "tags": []
   },
   "outputs": [],
   "source": [
    "db = FAISS.from_texts(data, embeddings)\n"
   ]
  },
  {
   "cell_type": "code",
   "execution_count": 58,
   "id": "e7a1a7fe-72de-454e-82d0-ffa867990956",
   "metadata": {
    "tags": []
   },
   "outputs": [
    {
     "name": "stdout",
     "output_type": "stream",
     "text": [
      "[(Document(page_content='when the sales was down'), 0.5942349), (Document(page_content='which year the sell of cars were high'), 0.6114755), (Document(page_content='what is the profit in 2020'), 0.7008934), (Document(page_content='how much of workers works in the company'), 0.8139192)]\n"
     ]
    }
   ],
   "source": [
    "query = \"can i know the year of sales going down\"\n",
    "docs = db.similarity_search_with_score(query) #similarity_search\n",
    "# print('first result',docs[0].page_content)\n",
    "print(docs)"
   ]
  },
  {
   "cell_type": "code",
   "execution_count": 57,
   "id": "f2461214-9089-41e5-9394-4fa9f6c52d10",
   "metadata": {
    "tags": []
   },
   "outputs": [],
   "source": [
    "# print('first result',docs[0][0].page_content)\n"
   ]
  },
  {
   "cell_type": "code",
   "execution_count": 59,
   "id": "a3994cb4-a050-410e-8f39-2c038e55df2f",
   "metadata": {
    "tags": []
   },
   "outputs": [
    {
     "name": "stdout",
     "output_type": "stream",
     "text": [
      "Copying file://./Singpost_QnA_doc.csv [Content-Type=text/csv]...\n",
      "/ [1 files][  4.8 KiB/  4.8 KiB]                                                \n",
      "Operation completed over 1 objects/4.8 KiB.                                      \n"
     ]
    }
   ],
   "source": [
    "# !gsutil cp  ./Singpost_QnA_doc.csv gs://my-project-0004-bucket02/llms"
   ]
  },
  {
   "cell_type": "code",
   "execution_count": null,
   "id": "6a42bd4b-f334-4f25-abda-0b8d35eb2bb9",
   "metadata": {},
   "outputs": [],
   "source": []
  }
 ],
 "metadata": {
  "environment": {
   "kernel": "conda-root-py312",
   "name": "workbench-notebooks.m113",
   "type": "gcloud",
   "uri": "gcr.io/deeplearning-platform-release/workbench-notebooks:m113"
  },
  "kernelspec": {
   "display_name": "py312 (Local)",
   "language": "python",
   "name": "conda-root-py312"
  },
  "language_info": {
   "codemirror_mode": {
    "name": "ipython",
    "version": 3
   },
   "file_extension": ".py",
   "mimetype": "text/x-python",
   "name": "python",
   "nbconvert_exporter": "python",
   "pygments_lexer": "ipython3",
   "version": "3.12.1"
  }
 },
 "nbformat": 4,
 "nbformat_minor": 5
}
