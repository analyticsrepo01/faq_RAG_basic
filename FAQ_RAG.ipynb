{
 "cells": [
  {
   "cell_type": "markdown",
   "id": "2938b2c6-e4f7-4d19-96c9-8e0b1e600b35",
   "metadata": {},
   "source": [
    "### setup"
   ]
  },
  {
   "cell_type": "code",
   "execution_count": 2,
   "id": "5f2ec1d0-07fb-4a6c-a63b-565d5ab9d2c7",
   "metadata": {
    "tags": []
   },
   "outputs": [
    {
     "name": "stdout",
     "output_type": "stream",
     "text": [
      "Updated property [core/project].\n",
      "Creating gs://my-project-0004-346516-pytorch112kagglewbi-us-central1/...\n",
      "\u001b[1;31mERROR:\u001b[0m (gcloud.storage.buckets.create) HTTPError 409: Your previous request to create the named bucket succeeded and you already own it.\n",
      "mkdir: cannot create directory ‘output’: File exists\n"
     ]
    }
   ],
   "source": [
    "import socket\n",
    "import re\n",
    "\n",
    "PROJECT_ID = !(gcloud config get-value core/project)\n",
    "PROJECT_ID = PROJECT_ID[0]\n",
    "\n",
    "SVC_ACC = !(gcloud config get-value core/account)\n",
    "SVC_ACC = SVC_ACC[0]\n",
    "\n",
    "PROJECT_NUMBER=str(re.search(r'\\d+', SVC_ACC).group())\n",
    "\n",
    "LOCATION=\"us-central1\"\n",
    "\n",
    "UNIQUE_PREFIX = socket.gethostname()\n",
    "UNIQUE_PREFIX = re.sub('[^A-Za-z0-9]+', '', UNIQUE_PREFIX)\n",
    "\n",
    "BUCKET_NAME = f\"{PROJECT_ID}-{UNIQUE_PREFIX}-{LOCATION}\"\n",
    "\n",
    "BUCKET_URI = f\"gs://{BUCKET_NAME}\"  # @param {type:\"string\"}\n",
    "\n",
    "! gcloud config set project $PROJECT_ID\n",
    "! gcloud storage buckets create {BUCKET_URI} --project={PROJECT_ID} --location={LOCATION}\n",
    "! mkdir output\n",
    "\n",
    "import vertexai\n",
    "\n",
    "vertexai.init(project=PROJECT_ID, location=LOCATION, staging_bucket=BUCKET_URI)"
   ]
  },
  {
   "cell_type": "markdown",
   "id": "3c8b55a8-28f0-4380-b82d-bb7bd7050971",
   "metadata": {},
   "source": [
    "### helper funtion "
   ]
  },
  {
   "cell_type": "code",
   "execution_count": 3,
   "id": "af99de94-7e4f-4893-a954-0f8975cc3778",
   "metadata": {
    "tags": []
   },
   "outputs": [],
   "source": [
    "# from langchain_google_genai import ChatGoogleGenerativeAI\n",
    "from langchain_google_vertexai import VertexAI\n",
    "from langchain_google_vertexai import VertexAIEmbeddings\n",
    "\n",
    "\n",
    "# from langchain_community.embeddings import HuggingFaceEmbeddings\n",
    "from langchain_community.vectorstores import FAISS\n",
    "from langchain.prompts import PromptTemplate\n",
    "from langchain.chains import RetrievalQA\n",
    "import os \n",
    "from dotenv import load_dotenv\n",
    "load_dotenv()\n",
    "\n",
    "db_file_path='FAISS_Index'\n",
    "embeddings = VertexAIEmbeddings('textembedding-gecko@latest')\n",
    "\n",
    "def creation_of_vectorDB_in_local(loader):\n",
    "    data = loader.load()\n",
    "    db =FAISS.from_documents(data, embeddings)\n",
    "    db.save_local(db_file_path)\n",
    "\n",
    "def creation_FAQ_chain():\n",
    "    db=FAISS.load_local(db_file_path, embeddings)\n",
    "    retriever =db.as_retriever(score_threshold=0.7)\n",
    "    \n",
    "    # llm = ChatGoogleGenerativeAI(model=\"gemini-pro\",temperature=0.2)\n",
    "\n",
    "    # To use model\n",
    "    llm = VertexAI(model_name=\"gemini-pro\")\n",
    "\n",
    "    prompt_temp=\"\"\"Given the following context and a question, generate an answer based on this context only.\n",
    "    In the answer try to provide as much text as possible from \"response\" section in the source document context without making much changes.\n",
    "    If the answer is not found in the context, kindly state \"This Question not Present in My Database.\" Don't try to make up an answer.\n",
    "    CONTEXT: {context}\n",
    "    QUESTION: {question}\"\"\"\n",
    "\n",
    "    PROMPT = PromptTemplate(template=prompt_temp, input_variables=[\"context\", \"question\"])\n",
    "    chain = RetrievalQA.from_chain_type(llm=llm,chain_type=\"stuff\", \n",
    "                                        retriever=retriever, \n",
    "                                        input_key=\"query\", \n",
    "                                        return_source_documents=False,\n",
    "                                        chain_type_kwargs={\"prompt\" : PROMPT})\n",
    "    return chain\n"
   ]
  },
  {
   "cell_type": "code",
   "execution_count": 4,
   "id": "b4448e45-71e5-4ded-b2c8-b5f2f630d2ef",
   "metadata": {
    "tags": []
   },
   "outputs": [],
   "source": [
    "#@title ### You will need to update these values\n",
    "\n",
    "import vertexai\n",
    "vertexai.init(project=PROJECT_ID, location=LOCATION)\n"
   ]
  },
  {
   "cell_type": "markdown",
   "id": "9641c8a8-d42a-4aaf-b0f1-a5b371df87df",
   "metadata": {},
   "source": [
    "### vertex AI"
   ]
  },
  {
   "cell_type": "code",
   "execution_count": 5,
   "id": "7b333127-a68e-4118-a66f-78d9ebb21344",
   "metadata": {
    "tags": []
   },
   "outputs": [],
   "source": [
    "import pandas as pd\n",
    "import seaborn as sns\n",
    "from IPython.display import Markdown, display\n",
    "from sklearn.metrics.pairwise import cosine_similarity\n",
    "from vertexai.preview.language_models import (ChatModel, InputOutputTextPair,   TextEmbeddingModel,\n",
    "                                              TextGenerationModel)\n",
    "from google.cloud import aiplatform_v1beta1, aiplatform\n",
    "from google.protobuf import struct_pb2\n",
    "import numpy as np\n",
    "\n",
    "from tenacity import retry, stop_after_attempt, wait_random_exponential\n",
    "\n",
    "from langchain_google_vertexai import VertexAI\n",
    "from langchain_google_vertexai import VertexAIEmbeddings\n",
    "from vertexai.language_models import TextEmbeddingInput, TextEmbeddingModel\n",
    "\n",
    "model_name = 'textembedding-gecko@latest'\n",
    "embeddings = VertexAIEmbeddings(model_name)\n",
    "embedding_model = TextEmbeddingModel.from_pretrained(model_name)\n"
   ]
  },
  {
   "cell_type": "code",
   "execution_count": 16,
   "id": "7dba6569-1a0d-4a39-baa1-b35dc4076a18",
   "metadata": {
    "tags": []
   },
   "outputs": [],
   "source": [
    "import pandas as pd\n",
    "\n",
    "# Replace 'your_file.csv' with the actual filename\n",
    "df = pd.read_csv('Singpost_QnA_doc.csv')\n",
    "\n",
    "# print(\"\\nColumn names and types:\")\n",
    "# print(df.info())\n",
    "\n",
    "data = df[\"question\"].tolist()\n",
    "\n"
   ]
  },
  {
   "cell_type": "code",
   "execution_count": 17,
   "id": "16fbf3f0-04f8-436a-af60-158122caaf84",
   "metadata": {
    "tags": []
   },
   "outputs": [
    {
     "data": {
      "text/html": [
       "<div>\n",
       "<style scoped>\n",
       "    .dataframe tbody tr th:only-of-type {\n",
       "        vertical-align: middle;\n",
       "    }\n",
       "\n",
       "    .dataframe tbody tr th {\n",
       "        vertical-align: top;\n",
       "    }\n",
       "\n",
       "    .dataframe thead th {\n",
       "        text-align: right;\n",
       "    }\n",
       "</style>\n",
       "<table border=\"1\" class=\"dataframe\">\n",
       "  <thead>\n",
       "    <tr style=\"text-align: right;\">\n",
       "      <th></th>\n",
       "      <th>question</th>\n",
       "      <th>answer</th>\n",
       "      <th>embedding</th>\n",
       "    </tr>\n",
       "  </thead>\n",
       "  <tbody>\n",
       "    <tr>\n",
       "      <th>0</th>\n",
       "      <td>I need to update my email address</td>\n",
       "      <td>As each account is tied to a unique email addr...</td>\n",
       "      <td>[0.00035269002546556294, -0.007924865931272507...</td>\n",
       "    </tr>\n",
       "    <tr>\n",
       "      <th>1</th>\n",
       "      <td>How do I get my package shipped</td>\n",
       "      <td>Your unique VP ID that forms part of your over...</td>\n",
       "      <td>[0.03443169221282005, -0.02751363255083561, 0....</td>\n",
       "    </tr>\n",
       "    <tr>\n",
       "      <th>2</th>\n",
       "      <td>How do I navigate the members portal</td>\n",
       "      <td>Refer to the following image(s) https://drive....</td>\n",
       "      <td>[0.031672779470682144, -0.020744403824210167, ...</td>\n",
       "    </tr>\n",
       "    <tr>\n",
       "      <th>3</th>\n",
       "      <td>How do I navigate the address section on the p...</td>\n",
       "      <td>Refer to the following image(s) https://drive....</td>\n",
       "      <td>[0.04048671945929527, -0.027499673888087273, -...</td>\n",
       "    </tr>\n",
       "    <tr>\n",
       "      <th>4</th>\n",
       "      <td>How do I perform declaration on my package</td>\n",
       "      <td>Refer to the following image(s) https://drive....</td>\n",
       "      <td>[0.03648605942726135, -0.0060289218090474606, ...</td>\n",
       "    </tr>\n",
       "    <tr>\n",
       "      <th>5</th>\n",
       "      <td>What is SED and what does the customer need to...</td>\n",
       "      <td>SED refers to the United States Shipper’s Expo...</td>\n",
       "      <td>[-0.003393965307623148, -0.05115535482764244, ...</td>\n",
       "    </tr>\n",
       "    <tr>\n",
       "      <th>6</th>\n",
       "      <td>How do I navigate the package summary</td>\n",
       "      <td>Refer to the following image(s) https://drive....</td>\n",
       "      <td>[0.04750156030058861, -0.03618474677205086, -0...</td>\n",
       "    </tr>\n",
       "    <tr>\n",
       "      <th>7</th>\n",
       "      <td>How do I track my package on the portal</td>\n",
       "      <td>Refer to the following image(s) https://drive....</td>\n",
       "      <td>[0.03705435246229172, -0.02546788938343525, -0...</td>\n",
       "    </tr>\n",
       "    <tr>\n",
       "      <th>8</th>\n",
       "      <td>What kind of cases can CS Ops assist?</td>\n",
       "      <td>Item matched to wrong VP number (provide suppo...</td>\n",
       "      <td>[0.02198229357600212, -0.04881160706281662, -0...</td>\n",
       "    </tr>\n",
       "    <tr>\n",
       "      <th>9</th>\n",
       "      <td>What kind of case can vPost FFPs assist with?</td>\n",
       "      <td>1. Request to match to correct owner / Item ta...</td>\n",
       "      <td>[-0.0069028097204864025, -0.035859040915966034...</td>\n",
       "    </tr>\n",
       "    <tr>\n",
       "      <th>10</th>\n",
       "      <td>Which team can provide assistance for unclaime...</td>\n",
       "      <td>SG-Parcel Teams-Return Management</td>\n",
       "      <td>[0.02146504819393158, 0.011813432909548283, -0...</td>\n",
       "    </tr>\n",
       "    <tr>\n",
       "      <th>11</th>\n",
       "      <td>Is bundling discount available?</td>\n",
       "      <td>Bundling Discount is only offered to vPost SG ...</td>\n",
       "      <td>[0.028277195990085602, -0.07233366370201111, -...</td>\n",
       "    </tr>\n",
       "    <tr>\n",
       "      <th>12</th>\n",
       "      <td>What is VP ID</td>\n",
       "      <td>NaN</td>\n",
       "      <td>[-0.03238672763109207, -0.05904232710599899, -...</td>\n",
       "    </tr>\n",
       "  </tbody>\n",
       "</table>\n",
       "</div>"
      ],
      "text/plain": [
       "                                             question  \\\n",
       "0                   I need to update my email address   \n",
       "1                     How do I get my package shipped   \n",
       "2                How do I navigate the members portal   \n",
       "3   How do I navigate the address section on the p...   \n",
       "4          How do I perform declaration on my package   \n",
       "5   What is SED and what does the customer need to...   \n",
       "6               How do I navigate the package summary   \n",
       "7             How do I track my package on the portal   \n",
       "8               What kind of cases can CS Ops assist?   \n",
       "9       What kind of case can vPost FFPs assist with?   \n",
       "10  Which team can provide assistance for unclaime...   \n",
       "11                    Is bundling discount available?   \n",
       "12                                      What is VP ID   \n",
       "\n",
       "                                               answer  \\\n",
       "0   As each account is tied to a unique email addr...   \n",
       "1   Your unique VP ID that forms part of your over...   \n",
       "2   Refer to the following image(s) https://drive....   \n",
       "3   Refer to the following image(s) https://drive....   \n",
       "4   Refer to the following image(s) https://drive....   \n",
       "5   SED refers to the United States Shipper’s Expo...   \n",
       "6   Refer to the following image(s) https://drive....   \n",
       "7   Refer to the following image(s) https://drive....   \n",
       "8   Item matched to wrong VP number (provide suppo...   \n",
       "9   1. Request to match to correct owner / Item ta...   \n",
       "10                  SG-Parcel Teams-Return Management   \n",
       "11  Bundling Discount is only offered to vPost SG ...   \n",
       "12                                                NaN   \n",
       "\n",
       "                                            embedding  \n",
       "0   [0.00035269002546556294, -0.007924865931272507...  \n",
       "1   [0.03443169221282005, -0.02751363255083561, 0....  \n",
       "2   [0.031672779470682144, -0.020744403824210167, ...  \n",
       "3   [0.04048671945929527, -0.027499673888087273, -...  \n",
       "4   [0.03648605942726135, -0.0060289218090474606, ...  \n",
       "5   [-0.003393965307623148, -0.05115535482764244, ...  \n",
       "6   [0.04750156030058861, -0.03618474677205086, -0...  \n",
       "7   [0.03705435246229172, -0.02546788938343525, -0...  \n",
       "8   [0.02198229357600212, -0.04881160706281662, -0...  \n",
       "9   [-0.0069028097204864025, -0.035859040915966034...  \n",
       "10  [0.02146504819393158, 0.011813432909548283, -0...  \n",
       "11  [0.028277195990085602, -0.07233366370201111, -...  \n",
       "12  [-0.03238672763109207, -0.05904232710599899, -...  "
      ]
     },
     "execution_count": 17,
     "metadata": {},
     "output_type": "execute_result"
    }
   ],
   "source": [
    "prompt_list = df['question'].tolist()\n",
    "\n",
    "df[\"embedding\"] = [    emb.values for emb in embedding_model.get_embeddings(prompt_list) ]\n",
    "df"
   ]
  },
  {
   "cell_type": "code",
   "execution_count": 18,
   "id": "8aa7b6b6-b70a-488d-b25d-7e819a5d6807",
   "metadata": {
    "tags": []
   },
   "outputs": [],
   "source": [
    "db = FAISS.from_texts(data, embeddings)\n"
   ]
  },
  {
   "cell_type": "code",
   "execution_count": 19,
   "id": "e7a1a7fe-72de-454e-82d0-ffa867990956",
   "metadata": {
    "tags": []
   },
   "outputs": [
    {
     "name": "stdout",
     "output_type": "stream",
     "text": [
      "[(Document(page_content='Is bundling discount available?'), 0.80268395), (Document(page_content='I need to update my email address'), 0.84324044), (Document(page_content='What is SED and what does the customer need to do?'), 0.84402), (Document(page_content='How do I get my package shipped'), 0.872614)]\n"
     ]
    }
   ],
   "source": [
    "query = \"can i know the year of sales going down\"\n",
    "docs = db.similarity_search_with_score(query) #similarity_search\n",
    "# print('first result',docs[0].page_content)\n",
    "print(docs)"
   ]
  },
  {
   "cell_type": "code",
   "execution_count": 20,
   "id": "f2461214-9089-41e5-9394-4fa9f6c52d10",
   "metadata": {
    "tags": []
   },
   "outputs": [],
   "source": [
    "# print('first result',docs[0][0].page_content)\n"
   ]
  },
  {
   "cell_type": "code",
   "execution_count": 21,
   "id": "a3994cb4-a050-410e-8f39-2c038e55df2f",
   "metadata": {
    "tags": []
   },
   "outputs": [],
   "source": [
    "# !gsutil cp  ./Singpost_QnA_doc.csv gs://my-project-0004-bucket02/llms"
   ]
  },
  {
   "cell_type": "code",
   "execution_count": 22,
   "id": "6a42bd4b-f334-4f25-abda-0b8d35eb2bb9",
   "metadata": {},
   "outputs": [],
   "source": [
    "from langchain.retrievers import BM25Retriever, EnsembleRetriever\n"
   ]
  },
  {
   "cell_type": "code",
   "execution_count": 24,
   "id": "221cbdd6-9a2a-460a-a0ae-b2078e045499",
   "metadata": {
    "tags": []
   },
   "outputs": [
    {
     "data": {
      "text/plain": [
       "['I need to update my email address',\n",
       " 'How do I get my package shipped',\n",
       " 'How do I navigate the members portal',\n",
       " 'How do I navigate the address section on the portal',\n",
       " 'How do I perform declaration on my package',\n",
       " 'What is SED and what does the customer need to do?',\n",
       " 'How do I navigate the package summary',\n",
       " 'How do I track my package on the portal',\n",
       " 'What kind of cases can CS Ops assist?',\n",
       " 'What kind of case can vPost FFPs assist with?',\n",
       " 'Which team can provide assistance for unclaimed vPost packages',\n",
       " 'Is bundling discount available?',\n",
       " 'What is VP ID']"
      ]
     },
     "execution_count": 24,
     "metadata": {},
     "output_type": "execute_result"
    }
   ],
   "source": [
    "data"
   ]
  },
  {
   "cell_type": "code",
   "execution_count": 29,
   "id": "fb5a69b4-1bce-4287-9853-fa92a6a6919c",
   "metadata": {
    "tags": []
   },
   "outputs": [],
   "source": [
    "# %pip install rank_bm25"
   ]
  },
  {
   "cell_type": "code",
   "execution_count": 30,
   "id": "593a9120-f79c-410e-af00-37b9c2598002",
   "metadata": {
    "tags": []
   },
   "outputs": [],
   "source": [
    "# initialize the bm25 retriever and faiss retriever\n",
    "bm25_retriever = BM25Retriever.from_texts(\n",
    "    data, metadatas=[{\"source\": 1}] * len(data)\n",
    ")\n",
    "bm25_retriever.k = 2\n"
   ]
  },
  {
   "cell_type": "code",
   "execution_count": 32,
   "id": "5ccdba23-1833-43e0-b8b2-75af18b4895d",
   "metadata": {
    "tags": []
   },
   "outputs": [],
   "source": [
    "faiss_vectorstore = FAISS.from_texts(\n",
    "    data, embeddings, metadatas=[{\"source\": 2}] * len(data)\n",
    ")\n",
    "faiss_retriever = faiss_vectorstore.as_retriever(search_kwargs={\"k\": 2})\n"
   ]
  },
  {
   "cell_type": "code",
   "execution_count": 33,
   "id": "2a0a2ea4-1d6d-42c1-86cd-c9763ef02642",
   "metadata": {
    "tags": []
   },
   "outputs": [],
   "source": [
    "# initialize the ensemble retriever\n",
    "ensemble_retriever = EnsembleRetriever(\n",
    "    retrievers=[bm25_retriever, faiss_retriever], weights=[0.5, 0.5]\n",
    ")"
   ]
  },
  {
   "cell_type": "code",
   "execution_count": 34,
   "id": "41187e22-30f5-4376-bedd-a280319ed0c9",
   "metadata": {
    "tags": []
   },
   "outputs": [
    {
     "data": {
      "text/plain": [
       "[Document(page_content='What is VP ID', metadata={'source': 1}),\n",
       " Document(page_content='Is bundling discount available?', metadata={'source': 1}),\n",
       " Document(page_content='Which team can provide assistance for unclaimed vPost packages', metadata={'source': 2})]"
      ]
     },
     "execution_count": 34,
     "metadata": {},
     "output_type": "execute_result"
    }
   ],
   "source": [
    "docs = ensemble_retriever.invoke(\"VP ID\")\n",
    "docs"
   ]
  },
  {
   "cell_type": "code",
   "execution_count": 35,
   "id": "d637ba50-eec5-442c-a553-b12859cc388d",
   "metadata": {
    "tags": []
   },
   "outputs": [
    {
     "data": {
      "text/plain": [
       "[Document(page_content='What kind of case can vPost FFPs assist with?', metadata={'source': 1}),\n",
       " Document(page_content='What is VP ID', metadata={'source': 1}),\n",
       " Document(page_content='Is bundling discount available?', metadata={'source': 2})]"
      ]
     },
     "execution_count": 35,
     "metadata": {},
     "output_type": "execute_result"
    }
   ],
   "source": [
    "docs = ensemble_retriever.invoke(\"FFPs\")\n",
    "docs"
   ]
  },
  {
   "cell_type": "code",
   "execution_count": 38,
   "id": "6e3bf972-9dc0-4b0c-b935-0607c7bbdc79",
   "metadata": {
    "tags": []
   },
   "outputs": [
    {
     "data": {
      "text/plain": [
       "[Document(page_content='Is bundling discount available?', metadata={'source': 1}),\n",
       " Document(page_content='What is SED and what does the customer need to do?', metadata={'source': 1})]"
      ]
     },
     "execution_count": 38,
     "metadata": {},
     "output_type": "execute_result"
    }
   ],
   "source": [
    "query = \"what are bundling discount ?\"\n",
    "docs = ensemble_retriever.invoke(query)\n",
    "docs"
   ]
  },
  {
   "cell_type": "code",
   "execution_count": 39,
   "id": "8fa73e97-ebed-48b3-b48f-44c24a618faf",
   "metadata": {
    "tags": []
   },
   "outputs": [],
   "source": [
    "retrieved_result = \"\"\"\n",
    "\n",
    "Question : 'Is bundling discount available?'\n",
    "answer : 'Bundling Discount is only offered to vPost SG Customers only. The lowest-priced package will automatically be selected as the first Package to provide maximum discount and value. Discount will apply only on the second and subsequent packages Bunding discount applies when customer ship multiple package in one shipment.' \n",
    "\n",
    "\"\"\""
   ]
  },
  {
   "cell_type": "code",
   "execution_count": 40,
   "id": "0a827fe0-da18-4827-a335-321f24c39499",
   "metadata": {
    "tags": []
   },
   "outputs": [
    {
     "name": "stdout",
     "output_type": "stream",
     "text": [
      "This answer is a bit confusing and could be improved. Here's a breakdown of the issues and suggestions for improvement:\n",
      "\n",
      "**Issues:**\n",
      "\n",
      "* **Too much information at once:** The answer throws a lot of details at the reader without a clear structure. \n",
      "* **Unclear wording:**  \"Lowest-priced package will automatically be selected as the first Package\" is confusing.\n",
      "* **Missing key information:**  What is a \"vPost SG Customer\"? How do customers know they qualify?\n",
      "* **No clear action:** It doesn't tell the customer what to do next if they want to take advantage of the discount.\n",
      "\n",
      "**Improved Answer:**\n",
      "\n",
      "Here's a way to rephrase the answer to be more user-friendly and informative:\n",
      "\n",
      "\"Yes, we offer a bundling discount! Here's how it works:\n",
      "\n",
      "* **For vPost SG Customers only:**  If you are a vPost SG customer, you can save by shipping multiple packages together. \n",
      "* **Automatic discount:**  When you ship multiple packages in one shipment, we'll automatically apply a discount to your second and subsequent packages.\n",
      "* **Maximizing your savings:** We'll select the lowest-priced package to receive the maximum discount.\n",
      "\n",
      "To learn more about becoming a vPost SG customer and how to qualify for the bundling discount, please visit our website at [link to website].\" \n",
      "\n",
      "**Improvements:**\n",
      "\n",
      "* **Concise and clear:** The answer is shorter and easier to understand.\n",
      "* **Direct and engaging:** It directly answers the question with a \"Yes\" and then explains the details.\n",
      "* **User-focused:**  It highlights the benefits of the discount and guides the user towards learning more.\n",
      "* **Call to action:**  It encourages the user to visit the website for more information.\n",
      "\n",
      "By making these changes, the answer becomes much more helpful and informative for the customer. \n"
     ]
    }
   ],
   "source": [
    "import base64\n",
    "import vertexai\n",
    "from vertexai.generative_models import GenerativeModel, Part, FinishReason\n",
    "import vertexai.preview.generative_models as generative_models\n",
    "\n",
    "def generate():\n",
    "  vertexai.init(project=PROJECT_ID, location=\"us-central1\")\n",
    "  model = GenerativeModel(\n",
    "    \"gemini-1.5-flash-001\",\n",
    "  )\n",
    "  responses = model.generate_content(\n",
    "      [text1],\n",
    "      generation_config=generation_config,\n",
    "      safety_settings=safety_settings,\n",
    "      stream=True,\n",
    "  )\n",
    "\n",
    "  for response in responses:\n",
    "    print(response.text, end=\"\")\n",
    "\n",
    "text1 = retrieved_result\n",
    "\n",
    "generation_config = {\n",
    "    \"max_output_tokens\": 5147,\n",
    "    \"top_p\": 0.95,\n",
    "}\n",
    "\n",
    "safety_settings = {\n",
    "    generative_models.HarmCategory.HARM_CATEGORY_HATE_SPEECH: generative_models.HarmBlockThreshold.BLOCK_MEDIUM_AND_ABOVE,\n",
    "    generative_models.HarmCategory.HARM_CATEGORY_DANGEROUS_CONTENT: generative_models.HarmBlockThreshold.BLOCK_MEDIUM_AND_ABOVE,\n",
    "    generative_models.HarmCategory.HARM_CATEGORY_SEXUALLY_EXPLICIT: generative_models.HarmBlockThreshold.BLOCK_MEDIUM_AND_ABOVE,\n",
    "    generative_models.HarmCategory.HARM_CATEGORY_HARASSMENT: generative_models.HarmBlockThreshold.BLOCK_MEDIUM_AND_ABOVE,\n",
    "}\n",
    "\n",
    "generate()"
   ]
  },
  {
   "cell_type": "markdown",
   "id": "089dda26-8c59-44c2-a307-9e5fc9035845",
   "metadata": {},
   "source": [
    "### Calling vertex Search to SDK"
   ]
  },
  {
   "cell_type": "markdown",
   "id": "7394f475-9add-4f43-8224-e10216c2ea06",
   "metadata": {},
   "source": [
    "#### Method 001"
   ]
  },
  {
   "cell_type": "code",
   "execution_count": 14,
   "id": "02290ed6-a595-4b37-82d4-7aec7122c749",
   "metadata": {
    "tags": []
   },
   "outputs": [
    {
     "name": "stdout",
     "output_type": "stream",
     "text": [
      "candidates {\n",
      "  content {\n",
      "    role: \"model\"\n",
      "    parts {\n",
      "      text: \"Bundling Discount is only offered to vPost SG Customers. The lowest-priced package will automatically be selected as the first Package to provide maximum discount and value. Discount will apply only on the second and subsequent packages. Bunding discount applies when customer ship multiple package in one shipment.\"\n",
      "    }\n",
      "  }\n",
      "  finish_reason: STOP\n",
      "  safety_ratings {\n",
      "    category: HARM_CATEGORY_HATE_SPEECH\n",
      "    probability: NEGLIGIBLE\n",
      "    probability_score: 0.09285216\n",
      "    severity: HARM_SEVERITY_NEGLIGIBLE\n",
      "    severity_score: 0.13741668\n",
      "  }\n",
      "  safety_ratings {\n",
      "    category: HARM_CATEGORY_DANGEROUS_CONTENT\n",
      "    probability: NEGLIGIBLE\n",
      "    probability_score: 0.18922126\n",
      "    severity: HARM_SEVERITY_NEGLIGIBLE\n",
      "    severity_score: 0.11456649\n",
      "  }\n",
      "  safety_ratings {\n",
      "    category: HARM_CATEGORY_HARASSMENT\n",
      "    probability: NEGLIGIBLE\n",
      "    probability_score: 0.101055905\n",
      "    severity: HARM_SEVERITY_NEGLIGIBLE\n",
      "    severity_score: 0.17133833\n",
      "  }\n",
      "  safety_ratings {\n",
      "    category: HARM_CATEGORY_SEXUALLY_EXPLICIT\n",
      "    probability: NEGLIGIBLE\n",
      "    probability_score: 0.24310295\n",
      "    severity: HARM_SEVERITY_NEGLIGIBLE\n",
      "    severity_score: 0.12787028\n",
      "  }\n",
      "  citation_metadata {\n",
      "    citations {\n",
      "      start_index: 57\n",
      "      end_index: 309\n",
      "      title: \"Your prompt\"\n",
      "    }\n",
      "  }\n",
      "  grounding_metadata {\n",
      "    retrieval_queries: \"which bundling discount available?\"\n",
      "  }\n",
      "}\n",
      "usage_metadata {\n",
      "  prompt_token_count: 6\n",
      "  candidates_token_count: 56\n",
      "  total_token_count: 62\n",
      "}\n",
      "\n"
     ]
    }
   ],
   "source": [
    "import vertexai\n",
    "\n",
    "from vertexai.preview.generative_models import grounding\n",
    "from vertexai.generative_models import GenerationConfig, GenerativeModel, Tool\n",
    "\n",
    "# TODO(developer): Update and un-comment below line\n",
    "# project_id = \"PROJECT_ID\"\n",
    "\n",
    "vertexai.init(project=PROJECT_ID, location=\"us-central1\")\n",
    "\n",
    "model = GenerativeModel(model_name=\"gemini-1.0-pro-002\")\n",
    "\n",
    "# Use Vertex AI Search data store\n",
    "# Format: projects/{project_id}/locations/{location}/collections/default_collection/dataStores/{data_store_id}\n",
    "\n",
    "data_store_path =  'projects/255766800726/locations/global/collections/default_collection/dataStores/singpost-pdf-per-page-qn_1717131756893'\n",
    "\n",
    "tool = Tool.from_retrieval(\n",
    "    grounding.Retrieval(grounding.VertexAISearch(datastore=data_store_path))\n",
    ")\n",
    "\n",
    "prompt = \"which bundling discount available?\"\n",
    "response = model.generate_content(\n",
    "    prompt,\n",
    "    tools=[tool],\n",
    "    generation_config=GenerationConfig(\n",
    "        temperature=0.1,\n",
    "    ),\n",
    ")\n",
    "\n",
    "print(response)"
   ]
  },
  {
   "cell_type": "code",
   "execution_count": null,
   "id": "f4f81c43-25de-47a3-b8ad-3c452edca82b",
   "metadata": {},
   "outputs": [],
   "source": [
    "# curl -X POST -H \"Authorization: Bearer $(gcloud auth print-access-token)\" \\\n",
    "# -H \"Content-Type: application/json\" \\\n",
    "# \"https://discoveryengine.googleapis.com/v1alpha/projects/255766800726/locations/global/collections/default_collection/dataStores/singpost-pdf-per-page-qn_1717131756893/servingConfigs/default_search:search\" \\\n",
    "# -d '{\"query\":\"<QUERY>\",\"pageSize\":10,\"queryExpansionSpec\":{\"condition\":\"AUTO\"},\"spellCorrectionSpec\":{\"mode\":\"AUTO\"},\"contentSearchSpec\":{\"summarySpec\":{\"summaryResultCount\":5,\"modelSpec\":{\"version\":\"gemini-1.5-flash-001/answer_gen/v1\"},\"ignoreAdversarialQuery\":true,\"includeCitations\":true},\"snippetSpec\":{\"returnSnippet\":true},\"extractiveContentSpec\":{\"maxExtractiveAnswerCount\":1}}}'"
   ]
  },
  {
   "cell_type": "markdown",
   "id": "1d6d1590-4ed2-46a9-a19a-4f53e8b50d50",
   "metadata": {},
   "source": [
    "#### Method 002"
   ]
  },
  {
   "cell_type": "code",
   "execution_count": 10,
   "id": "18016cda-e93e-4624-a592-b50902d46bc2",
   "metadata": {
    "tags": []
   },
   "outputs": [],
   "source": [
    "# from typing import List\n",
    "\n",
    "# from google.api_core.client_options import ClientOptions\n",
    "# from google.cloud import discoveryengine_v1 as discoveryengine\n",
    "\n",
    "# # TODO(developer): Uncomment these variables before running the sample.\n",
    "# project_id = PROJECT_ID #\"YOUR_PROJECT_ID\"\n",
    "# location = LOCATION #\"YOUR_LOCATION\"          # Values: \"global\", \"us\", \"eu\"\n",
    "# engine_id = \"singpost-pdf_1717131715752\"\n",
    "# dataStores = \"singpost-pdf-per-page-qn_1717131756893\"\n",
    "\n",
    "# search_query = prompt = \"which bundling discount available?\"\n",
    "\n",
    "\n",
    "# def search_sample(\n",
    "#     project_id: str,\n",
    "#     location: str,\n",
    "#     dataStores: str,\n",
    "#     search_query: str,\n",
    "# ) -> List[discoveryengine.SearchResponse]:\n",
    "#     #  For more information, refer to:\n",
    "#     # https://cloud.google.com/generative-ai-app-builder/docs/locations#specify_a_multi-region_for_your_data_store\n",
    "#     client_options = (\n",
    "#         ClientOptions(api_endpoint=f\"{location}-discoveryengine.googleapis.com\")\n",
    "#         if location != \"global\"\n",
    "#         else None\n",
    "#     )\n",
    "\n",
    "#     # Create a client\n",
    "#     client = discoveryengine.SearchServiceClient(client_options=client_options)\n",
    "\n",
    "#     # The full resource name of the search app serving config\n",
    "#     serving_config = f\"projects/{project_id}/locations/{location}/collections/default_collection/dataStores/{dataStores}/servingConfigs/default_config\"\n",
    "\n",
    "#     # Optional: Configuration options for search\n",
    "#     # Refer to the `ContentSearchSpec` reference for all supported fields:\n",
    "#     # https://cloud.google.com/python/docs/reference/discoveryengine/latest/google.cloud.discoveryengine_v1.types.SearchRequest.ContentSearchSpec\n",
    "#     content_search_spec = discoveryengine.SearchRequest.ContentSearchSpec(\n",
    "#         # For information about snippets, refer to:\n",
    "#         # https://cloud.google.com/generative-ai-app-builder/docs/snippets\n",
    "#         snippet_spec=discoveryengine.SearchRequest.ContentSearchSpec.SnippetSpec(\n",
    "#             return_snippet=True\n",
    "#         ),\n",
    "#         # For information about search summaries, refer to:\n",
    "#         # https://cloud.google.com/generative-ai-app-builder/docs/get-search-summaries\n",
    "#         summary_spec=discoveryengine.SearchRequest.ContentSearchSpec.SummarySpec(\n",
    "#             summary_result_count=5,\n",
    "#             include_citations=True,\n",
    "#             ignore_adversarial_query=True,\n",
    "#             ignore_non_summary_seeking_query=True,\n",
    "#             model_prompt_spec=discoveryengine.SearchRequest.ContentSearchSpec.SummarySpec.ModelPromptSpec(\n",
    "#                 preamble=\"YOUR_CUSTOM_PROMPT\"\n",
    "#             ),\n",
    "#             model_spec=discoveryengine.SearchRequest.ContentSearchSpec.SummarySpec.ModelSpec(\n",
    "#                 version=\"stable\",\n",
    "#             ),\n",
    "#         ),\n",
    "#     )\n",
    "\n",
    "#     # Refer to the `SearchRequest` reference for all supported fields:\n",
    "#     # https://cloud.google.com/python/docs/reference/discoveryengine/latest/google.cloud.discoveryengine_v1.types.SearchRequest\n",
    "#     request = discoveryengine.SearchRequest(\n",
    "#         serving_config=serving_config,\n",
    "#         query=search_query,\n",
    "#         page_size=10,\n",
    "#         content_search_spec=content_search_spec,\n",
    "#         query_expansion_spec=discoveryengine.SearchRequest.QueryExpansionSpec(\n",
    "#             condition=discoveryengine.SearchRequest.QueryExpansionSpec.Condition.AUTO,\n",
    "#         ),\n",
    "#         spell_correction_spec=discoveryengine.SearchRequest.SpellCorrectionSpec(\n",
    "#             mode=discoveryengine.SearchRequest.SpellCorrectionSpec.Mode.AUTO\n",
    "#         ),\n",
    "#     )\n",
    "\n",
    "#     response = client.search(request)\n",
    "#     print(response)\n",
    "\n",
    "#     return response\n"
   ]
  },
  {
   "cell_type": "code",
   "execution_count": 12,
   "id": "6d108943-9b54-4827-a0ff-d43d16a5ec2d",
   "metadata": {
    "tags": []
   },
   "outputs": [],
   "source": [
    "# search_sample(PROJECT_ID, LOCATION ,dataStores ,prompt)"
   ]
  },
  {
   "cell_type": "code",
   "execution_count": null,
   "id": "0ca06b9a-9aa4-4b1b-90de-0c3f0fe51955",
   "metadata": {},
   "outputs": [],
   "source": []
  }
 ],
 "metadata": {
  "environment": {
   "kernel": "conda-root-py312",
   "name": "workbench-notebooks.m113",
   "type": "gcloud",
   "uri": "gcr.io/deeplearning-platform-release/workbench-notebooks:m113"
  },
  "kernelspec": {
   "display_name": "py312 (Local)",
   "language": "python",
   "name": "conda-root-py312"
  },
  "language_info": {
   "codemirror_mode": {
    "name": "ipython",
    "version": 3
   },
   "file_extension": ".py",
   "mimetype": "text/x-python",
   "name": "python",
   "nbconvert_exporter": "python",
   "pygments_lexer": "ipython3",
   "version": "3.12.1"
  }
 },
 "nbformat": 4,
 "nbformat_minor": 5
}
