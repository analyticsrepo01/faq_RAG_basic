{
 "cells": [
  {
   "cell_type": "code",
   "execution_count": 1,
   "id": "9c77dd4c-30c3-46f8-ba36-a557abf9841f",
   "metadata": {
    "tags": []
   },
   "outputs": [
    {
     "name": "stdout",
     "output_type": "stream",
     "text": [
      "Requirement already satisfied: fpdf in /opt/conda/lib/python3.10/site-packages (1.7.2)\n",
      "\u001b[33mWARNING: Error parsing requirements for beautifulsoup4: [Errno 2] No such file or directory: '/opt/conda/lib/python3.10/site-packages/beautifulsoup4-4.12.2.dist-info/METADATA'\u001b[0m\u001b[33m\n",
      "\u001b[0mNote: you may need to restart the kernel to use updated packages.\n"
     ]
    }
   ],
   "source": [
    "# %pip install fpdf"
   ]
  },
  {
   "cell_type": "code",
   "execution_count": 10,
   "id": "00266f9b-a38b-46ab-a108-05f6c12d1429",
   "metadata": {
    "tags": []
   },
   "outputs": [
    {
     "data": {
      "text/plain": [
       "''"
      ]
     },
     "execution_count": 10,
     "metadata": {},
     "output_type": "execute_result"
    }
   ],
   "source": [
    "import pandas as pd\n",
    "from fpdf import FPDF\n",
    "import unicodedata\n",
    "\n",
    "# Load the CSV data\n",
    "# df = pd.read_csv('your_csv_file.csv')  # Replace with your actual filename\n",
    "df = pd.read_csv('Singpost_QnA_doc.csv', encoding='utf-8')\n",
    "# df = pd.read_csv('your_csv_file.csv', encoding='utf-8') \n",
    "# Ensure answers are treated as strings\n",
    "df['answer'] = df['answer'].astype(str)  \n",
    "\n",
    "# Create a PDF object\n",
    "# Create a PDF object\n",
    "pdf = FPDF()\n",
    "\n",
    "def remove_non_latin1_chars(text):\n",
    "    return unicodedata.normalize('NFKD', text).encode('latin-1', 'ignore').decode('latin-1')\n",
    "\n",
    "# Iterate through the rows (question-answer pairs)\n",
    "for index, row in df.iterrows():\n",
    "    # Replace problematic characters in both question and answer (adding en dash replacement)\n",
    "    question = row['question'].replace('\\u2019', \"'\").replace('\\u2013', '-')  \n",
    "    answer = row['answer'].replace('\\u2019', \"'\").replace('\\u2013', '-')\n",
    "    \n",
    "    question = remove_non_latin1_chars(question)\n",
    "    answer = remove_non_latin1_chars(answer)\n",
    "    \n",
    "    # print('question',question,'/n' , 'answer',answer)\n",
    "    \n",
    "    # Create a new page for each question-answer pair\n",
    "    pdf.add_page()\n",
    "\n",
    "    # Set font and size\n",
    "    pdf.set_font(\"Arial\", size=12)\n",
    "\n",
    "    # Question Section\n",
    "    pdf.cell(0, 10, f\"Question {index+1}:\", ln=1) \n",
    "    pdf.set_font(\"Arial\", size=10, style='B') \n",
    "    pdf.multi_cell(0, 10, question)\n",
    "    pdf.ln(5) \n",
    "\n",
    "    # Answer Section\n",
    "    pdf.set_font(\"Arial\", size=10)\n",
    "    pdf.cell(0, 10, \"Answer:\", ln=1)\n",
    "    pdf.multi_cell(0, 6, answer)\n",
    "\n",
    "# Save the PDF with UTF-8 encoding\n",
    "pdf.output(\"faq_output_final.pdf\", \"F\") \n"
   ]
  },
  {
   "cell_type": "code",
   "execution_count": null,
   "id": "4fa7c26d-a762-4581-a170-a0062137ec15",
   "metadata": {},
   "outputs": [],
   "source": []
  }
 ],
 "metadata": {
  "environment": {
   "kernel": "conda-root-py",
   "name": "workbench-notebooks.m113",
   "type": "gcloud",
   "uri": "gcr.io/deeplearning-platform-release/workbench-notebooks:m113"
  },
  "kernelspec": {
   "display_name": "Python 3 (ipykernel) (Local)",
   "language": "python",
   "name": "conda-root-py"
  },
  "language_info": {
   "codemirror_mode": {
    "name": "ipython",
    "version": 3
   },
   "file_extension": ".py",
   "mimetype": "text/x-python",
   "name": "python",
   "nbconvert_exporter": "python",
   "pygments_lexer": "ipython3",
   "version": "3.10.13"
  }
 },
 "nbformat": 4,
 "nbformat_minor": 5
}
